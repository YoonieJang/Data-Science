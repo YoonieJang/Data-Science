{
  "nbformat": 4,
  "nbformat_minor": 0,
  "metadata": {
    "kernelspec": {
      "display_name": "Python 3",
      "language": "python",
      "name": "python3"
    },
    "language_info": {
      "codemirror_mode": {
        "name": "ipython",
        "version": 3
      },
      "file_extension": ".py",
      "mimetype": "text/x-python",
      "name": "python",
      "nbconvert_exporter": "python",
      "pygments_lexer": "ipython3",
      "version": "3.6.3"
    },
    "colab": {
      "name": "2. Pandas-MongDB 함께 사용하기.ipynb",
      "provenance": [],
      "include_colab_link": true
    }
  },
  "cells": [
    {
      "cell_type": "markdown",
      "metadata": {
        "id": "view-in-github",
        "colab_type": "text"
      },
      "source": [
        "<a href=\"https://colab.research.google.com/github/YoonieJang/practice/blob/main/2_Pandas_MongDB.ipynb\" target=\"_parent\"><img src=\"https://colab.research.google.com/assets/colab-badge.svg\" alt=\"Open In Colab\"/></a>"
      ]
    },
    {
      "cell_type": "markdown",
      "metadata": {
        "id": "v-07jNHsueUN"
      },
      "source": [
        "## pymongo를 활용해 MongoDB와  python을 연결"
      ]
    },
    {
      "cell_type": "markdown",
      "metadata": {
        "id": "2jYH2ypaueUT"
      },
      "source": [
        "### MongDB\n",
        "\n",
        "- NoSQL Database중 하나로 사전 같은 객체를 사용하여 문서(Document)기반으로 데이터를 저장한다"
      ]
    },
    {
      "cell_type": "markdown",
      "metadata": {
        "id": "xUP1LBmOueUU"
      },
      "source": [
        "공식 드라이버 pymongo 설치"
      ]
    },
    {
      "cell_type": "code",
      "metadata": {
        "id": "jU8uv0iCueUU"
      },
      "source": [
        "# !pip install --upgrade pymongo\n",
        "!pip install --upgrade pymongo"
      ],
      "execution_count": null,
      "outputs": []
    },
    {
      "cell_type": "code",
      "metadata": {
        "id": "X0rSf6WuueUV"
      },
      "source": [
        "import mongo_conn"
      ],
      "execution_count": null,
      "outputs": []
    },
    {
      "cell_type": "code",
      "metadata": {
        "id": "LhG-x-grueUW"
      },
      "source": [
        "from pymongo import MongoClient"
      ],
      "execution_count": null,
      "outputs": []
    },
    {
      "cell_type": "markdown",
      "metadata": {
        "id": "a4Nd4UgqueUW"
      },
      "source": [
        "### MongoDB 접속"
      ]
    },
    {
      "cell_type": "code",
      "metadata": {
        "id": "5vw0UvGgueUX"
      },
      "source": [
        "# mongoDB에 접속할 client 생성\n",
        "\n",
        "client = mongo_conn.get_client()"
      ],
      "execution_count": null,
      "outputs": []
    },
    {
      "cell_type": "markdown",
      "metadata": {
        "id": "gb4TlSBZueUX"
      },
      "source": [
        "### Database와 Collection"
      ]
    },
    {
      "cell_type": "code",
      "metadata": {
        "id": "ZERdAUA8ueUZ",
        "outputId": "f0f317d3-83ed-4b47-bbfa-666893e4e27d"
      },
      "source": [
        "# Database 찾아오기\n",
        "# MongoDB는 여러 개의 데이터베이스를 가질 수 있고, \n",
        "# 각각의 데이터베이스는 여러 개의 컬렉션을 가질 수 있다\n",
        "\n",
        "# DB 생성 (이미 존재하는 DB라면 Load)\n",
        "test_database = client.Test\n",
        "print(test_database)\n",
        "\n",
        "# collection 생성 (이미 존재하는 Collection이라면 Load)\n",
        "test_collection = test_database.test_collection\n",
        "print(test_collection)"
      ],
      "execution_count": null,
      "outputs": [
        {
          "output_type": "stream",
          "text": [
            "Database(MongoClient(host=['cluster0-shard-00-01-8m9q3.mongodb.net:27017', 'cluster0-shard-00-00-8m9q3.mongodb.net:27017', 'cluster0-shard-00-02-8m9q3.mongodb.net:27017'], document_class=dict, tz_aware=False, connect=True, ssl=True, replicaset='Cluster0-shard-0', authsource='admin', retrywrites=True), 'Test')\n",
            "Collection(Database(MongoClient(host=['cluster0-shard-00-01-8m9q3.mongodb.net:27017', 'cluster0-shard-00-00-8m9q3.mongodb.net:27017', 'cluster0-shard-00-02-8m9q3.mongodb.net:27017'], document_class=dict, tz_aware=False, connect=True, ssl=True, replicaset='Cluster0-shard-0', authsource='admin', retrywrites=True), 'Test'), 'test_collection')\n"
          ],
          "name": "stdout"
        }
      ]
    },
    {
      "cell_type": "code",
      "metadata": {
        "id": "We0Ucw6LueUc",
        "outputId": "e724b568-ab0c-4a9f-af13-da3765aadb3d"
      },
      "source": [
        "# DB와 Collection을 Load하는 다른 방법\n",
        "\n",
        "test_database = client.get_database('Test')\n",
        "test_collection = test_database.get_collection('test_collection')\n",
        "\n",
        "print(test_database, test_collection)"
      ],
      "execution_count": null,
      "outputs": [
        {
          "output_type": "stream",
          "text": [
            "Database(MongoClient(host=['cluster0-shard-00-02-8m9q3.mongodb.net:27017', 'cluster0-shard-00-01-8m9q3.mongodb.net:27017', 'cluster0-shard-00-00-8m9q3.mongodb.net:27017'], document_class=dict, tz_aware=False, connect=True, ssl=True, replicaset='Cluster0-shard-0', authsource='admin', retrywrites=True), 'Test') Collection(Database(MongoClient(host=['cluster0-shard-00-02-8m9q3.mongodb.net:27017', 'cluster0-shard-00-01-8m9q3.mongodb.net:27017', 'cluster0-shard-00-00-8m9q3.mongodb.net:27017'], document_class=dict, tz_aware=False, connect=True, ssl=True, replicaset='Cluster0-shard-0', authsource='admin', retrywrites=True), 'Test'), 'test_collection')\n"
          ],
          "name": "stdout"
        }
      ]
    },
    {
      "cell_type": "code",
      "metadata": {
        "id": "AZQL-qnjueUd",
        "outputId": "c2b89010-eb1b-44bb-9975-cd173192642d"
      },
      "source": [
        "# DB 내의 Collection List 보기\n",
        "\n",
        "collection_list = test_database.collection_names()\n",
        "collection_list"
      ],
      "execution_count": null,
      "outputs": [
        {
          "output_type": "stream",
          "text": [
            "c:\\users\\kyle\\appdata\\local\\programs\\python\\python36\\lib\\site-packages\\ipykernel_launcher.py:3: DeprecationWarning: collection_names is deprecated. Use list_collection_names instead.\n",
            "  This is separate from the ipykernel package so we can avoid doing imports until\n"
          ],
          "name": "stderr"
        },
        {
          "output_type": "execute_result",
          "data": {
            "text/plain": [
              "['test_collection']"
            ]
          },
          "metadata": {
            "tags": []
          },
          "execution_count": 5
        }
      ]
    },
    {
      "cell_type": "markdown",
      "metadata": {
        "id": "iAS4ChmqueUf"
      },
      "source": [
        "### Database CRUD"
      ]
    },
    {
      "cell_type": "markdown",
      "metadata": {
        "id": "1v5HMdeHueUf"
      },
      "source": [
        "#### Insert"
      ]
    },
    {
      "cell_type": "code",
      "metadata": {
        "id": "G9g7VbbcueUg",
        "outputId": "1845425c-33b0-4231-e062-a6b13c704afb"
      },
      "source": [
        "# 컬렉션에 저장하기\n",
        "test_collection.insert({'name':'grace'})"
      ],
      "execution_count": null,
      "outputs": [
        {
          "output_type": "stream",
          "text": [
            "c:\\users\\kyle\\appdata\\local\\programs\\python\\python36\\lib\\site-packages\\ipykernel_launcher.py:2: DeprecationWarning: insert is deprecated. Use insert_one or insert_many instead.\n",
            "  \n"
          ],
          "name": "stderr"
        },
        {
          "output_type": "execute_result",
          "data": {
            "text/plain": [
              "ObjectId('5bdd758b9b7e8a4908544ea6')"
            ]
          },
          "metadata": {
            "tags": []
          },
          "execution_count": 9
        }
      ]
    },
    {
      "cell_type": "markdown",
      "metadata": {
        "id": "6_GyzSz1ueUg"
      },
      "source": [
        "#### Find(= Select)"
      ]
    },
    {
      "cell_type": "code",
      "metadata": {
        "id": "93HBEkEaueUg",
        "outputId": "0becdb43-8ad9-48a8-cdb0-a25089695c60"
      },
      "source": [
        "# 컬렉션에서 읽어오기\n",
        "\n",
        "# 전체 조회\n",
        "cursor = test_collection.find()\n",
        "print(list(cursor))\n",
        "\n",
        "# 조건 조회 (name이 grace 인 데이터만 조회)\n",
        "cursor = test_collection.find({'name':'grace'})\n",
        "print(list(cursor))\n",
        "\n",
        "# cursor는 1회 사용 후 휘발됨\n",
        "print(list(cursor))"
      ],
      "execution_count": null,
      "outputs": [
        {
          "output_type": "stream",
          "text": [
            "[{'_id': ObjectId('5bdd758b9b7e8a4908544ea6'), 'name': 'grace'}]\n",
            "[{'_id': ObjectId('5bdd758b9b7e8a4908544ea6'), 'name': 'grace'}]\n",
            "[]\n"
          ],
          "name": "stdout"
        }
      ]
    },
    {
      "cell_type": "markdown",
      "metadata": {
        "id": "RmTy1U4DueUh"
      },
      "source": [
        "#### Remove(= Delete)"
      ]
    },
    {
      "cell_type": "code",
      "metadata": {
        "id": "oXg5p34zueUh",
        "outputId": "2067df6d-29fe-4ec9-b460-06bfdb58a0f3"
      },
      "source": [
        "# 컬렉션에서 삭제하기\n",
        "test_collection.remove({'name':'grace'})"
      ],
      "execution_count": null,
      "outputs": [
        {
          "output_type": "stream",
          "text": [
            "c:\\users\\kyle\\appdata\\local\\programs\\python\\python36\\lib\\site-packages\\ipykernel_launcher.py:2: DeprecationWarning: remove is deprecated. Use delete_one or delete_many instead.\n",
            "  \n"
          ],
          "name": "stderr"
        },
        {
          "output_type": "execute_result",
          "data": {
            "text/plain": [
              "{'n': 1,\n",
              " 'opTime': {'ts': Timestamp(1541240237, 1), 't': 7},\n",
              " 'electionId': ObjectId('7fffffff0000000000000007'),\n",
              " 'ok': 1.0,\n",
              " 'operationTime': Timestamp(1541240237, 1),\n",
              " '$clusterTime': {'clusterTime': Timestamp(1541240237, 1),\n",
              "  'signature': {'hash': b'\\x9c\\xda\\x16\\xe5\\xb2\\x0e\\x8e2\\x816\\x01\\x8fX\\xf2\\x05w\\xf7\\x11\\xca\\x8e',\n",
              "   'keyId': 6605358658400288769}}}"
            ]
          },
          "metadata": {
            "tags": []
          },
          "execution_count": 11
        }
      ]
    },
    {
      "cell_type": "code",
      "metadata": {
        "id": "gYcrSArTueUh",
        "outputId": "f2d56582-78fb-40b4-a677-d5683c4a1a25"
      },
      "source": [
        "list(test_collection.find())"
      ],
      "execution_count": null,
      "outputs": [
        {
          "output_type": "execute_result",
          "data": {
            "text/plain": [
              "[]"
            ]
          },
          "metadata": {
            "tags": []
          },
          "execution_count": 12
        }
      ]
    },
    {
      "cell_type": "code",
      "metadata": {
        "id": "ClT34UJaueUh"
      },
      "source": [
        "people = ['grace', 'kyle', 'john', 'tom', 'ellen']\n",
        "city = ['seoul', 'newyork', 'london', 'paris']"
      ],
      "execution_count": null,
      "outputs": []
    },
    {
      "cell_type": "code",
      "metadata": {
        "id": "V2Ndo5Y8ueUi",
        "outputId": "fbbe98d8-2b27-4bb6-ca60-fd76a4335b5f"
      },
      "source": [
        "from random import *\n",
        "\n",
        "for person in people:\n",
        "    test_collection.insert({'name': person, 'age': randint(10, 80), 'address': city[randint(10, 80)%4]})"
      ],
      "execution_count": null,
      "outputs": [
        {
          "output_type": "stream",
          "text": [
            "c:\\users\\kyle\\appdata\\local\\programs\\python\\python36\\lib\\site-packages\\ipykernel_launcher.py:4: DeprecationWarning: insert is deprecated. Use insert_one or insert_many instead.\n",
            "  after removing the cwd from sys.path.\n"
          ],
          "name": "stderr"
        }
      ]
    },
    {
      "cell_type": "code",
      "metadata": {
        "id": "J6Lx_uJ2ueUi",
        "outputId": "19ebbdec-e683-4d35-de9f-586e7b9957e1"
      },
      "source": [
        "list(test_collection.find())"
      ],
      "execution_count": null,
      "outputs": [
        {
          "output_type": "execute_result",
          "data": {
            "text/plain": [
              "[{'_id': ObjectId('5bdd75b69b7e8a4908544ea7'),\n",
              "  'name': 'grace',\n",
              "  'age': 43,\n",
              "  'address': 'seoul'},\n",
              " {'_id': ObjectId('5bdd75b69b7e8a4908544ea8'),\n",
              "  'name': 'kyle',\n",
              "  'age': 62,\n",
              "  'address': 'seoul'},\n",
              " {'_id': ObjectId('5bdd75b69b7e8a4908544ea9'),\n",
              "  'name': 'john',\n",
              "  'age': 10,\n",
              "  'address': 'newyork'},\n",
              " {'_id': ObjectId('5bdd75b79b7e8a4908544eaa'),\n",
              "  'name': 'tom',\n",
              "  'age': 12,\n",
              "  'address': 'seoul'},\n",
              " {'_id': ObjectId('5bdd75b79b7e8a4908544eab'),\n",
              "  'name': 'ellen',\n",
              "  'age': 21,\n",
              "  'address': 'london'}]"
            ]
          },
          "metadata": {
            "tags": []
          },
          "execution_count": 15
        }
      ]
    },
    {
      "cell_type": "markdown",
      "metadata": {
        "id": "yRUHMeJ3ueUj"
      },
      "source": [
        "#### Fileter"
      ]
    },
    {
      "cell_type": "code",
      "metadata": {
        "id": "uErXWTz0ueUj",
        "outputId": "4543dbe2-fdfd-4caa-de7f-3f0513839a94"
      },
      "source": [
        "# find 명령어에 조건을 입력하여 조회 가능\n",
        "# $lt(less than): 미만\n",
        "# $lte(less then equals): 이하\n",
        "# $gt(grater than): 초과\n",
        "# $gte(grater than equals): 이상\n",
        "# $ne(not equeals): 같지않음\n",
        "\n",
        "list(test_collection.find({'age': {'$gte': 40}}))"
      ],
      "execution_count": null,
      "outputs": [
        {
          "output_type": "execute_result",
          "data": {
            "text/plain": [
              "[{'_id': ObjectId('5bdd75b69b7e8a4908544ea7'),\n",
              "  'name': 'grace',\n",
              "  'age': 43,\n",
              "  'address': 'seoul'},\n",
              " {'_id': ObjectId('5bdd75b69b7e8a4908544ea8'),\n",
              "  'name': 'kyle',\n",
              "  'age': 62,\n",
              "  'address': 'seoul'}]"
            ]
          },
          "metadata": {
            "tags": []
          },
          "execution_count": 16
        }
      ]
    },
    {
      "cell_type": "code",
      "metadata": {
        "id": "3pOcbQamueUk",
        "outputId": "cbfe8d93-7571-4f13-8d23-7e514c42972f"
      },
      "source": [
        "list(test_collection.find({'age': {'$lte': 40}}))"
      ],
      "execution_count": null,
      "outputs": [
        {
          "output_type": "execute_result",
          "data": {
            "text/plain": [
              "[{'_id': ObjectId('5bdd75b69b7e8a4908544ea9'),\n",
              "  'name': 'john',\n",
              "  'age': 10,\n",
              "  'address': 'newyork'},\n",
              " {'_id': ObjectId('5bdd75b79b7e8a4908544eaa'),\n",
              "  'name': 'tom',\n",
              "  'age': 12,\n",
              "  'address': 'seoul'},\n",
              " {'_id': ObjectId('5bdd75b79b7e8a4908544eab'),\n",
              "  'name': 'ellen',\n",
              "  'age': 21,\n",
              "  'address': 'london'}]"
            ]
          },
          "metadata": {
            "tags": []
          },
          "execution_count": 17
        }
      ]
    },
    {
      "cell_type": "code",
      "metadata": {
        "id": "_LqI1mY6ueUk",
        "outputId": "b8486657-fe63-4cd0-f4b5-ab736554f00b"
      },
      "source": [
        "# 여러 조건 동시에 주기\n",
        "# $and, $or\n",
        "\n",
        "list(test_collection.find({'$and': [{'age': {'$gt': 30}}, {'address': 'newyork'}]}))"
      ],
      "execution_count": null,
      "outputs": [
        {
          "output_type": "execute_result",
          "data": {
            "text/plain": [
              "[]"
            ]
          },
          "metadata": {
            "tags": []
          },
          "execution_count": 18
        }
      ]
    },
    {
      "cell_type": "code",
      "metadata": {
        "id": "h1S8VpdIueUk",
        "outputId": "f38dc792-b0c6-486f-857c-9ae444cc96fd"
      },
      "source": [
        "list(test_collection.find({'$or': [{'age': {'$lt': 25}}, {'address': 'seoul'}]}))"
      ],
      "execution_count": null,
      "outputs": [
        {
          "output_type": "execute_result",
          "data": {
            "text/plain": [
              "[{'_id': ObjectId('5bdd75b69b7e8a4908544ea7'),\n",
              "  'name': 'grace',\n",
              "  'age': 43,\n",
              "  'address': 'seoul'},\n",
              " {'_id': ObjectId('5bdd75b69b7e8a4908544ea8'),\n",
              "  'name': 'kyle',\n",
              "  'age': 62,\n",
              "  'address': 'seoul'},\n",
              " {'_id': ObjectId('5bdd75b69b7e8a4908544ea9'),\n",
              "  'name': 'john',\n",
              "  'age': 10,\n",
              "  'address': 'newyork'},\n",
              " {'_id': ObjectId('5bdd75b79b7e8a4908544eaa'),\n",
              "  'name': 'tom',\n",
              "  'age': 12,\n",
              "  'address': 'seoul'},\n",
              " {'_id': ObjectId('5bdd75b79b7e8a4908544eab'),\n",
              "  'name': 'ellen',\n",
              "  'age': 21,\n",
              "  'address': 'london'}]"
            ]
          },
          "metadata": {
            "tags": []
          },
          "execution_count": 19
        }
      ]
    },
    {
      "cell_type": "code",
      "metadata": {
        "id": "Q5QzclM8ueUk",
        "outputId": "9b7b4567-f688-47b0-e8b9-7293dd1879b9"
      },
      "source": [
        "# 집합 조건\n",
        "\n",
        "list(test_collection.find({'address': {'$in': ['seoul', 'london']}}))"
      ],
      "execution_count": null,
      "outputs": [
        {
          "output_type": "execute_result",
          "data": {
            "text/plain": [
              "[{'_id': ObjectId('5bdd75b69b7e8a4908544ea7'),\n",
              "  'name': 'grace',\n",
              "  'age': 43,\n",
              "  'address': 'seoul'},\n",
              " {'_id': ObjectId('5bdd75b69b7e8a4908544ea8'),\n",
              "  'name': 'kyle',\n",
              "  'age': 62,\n",
              "  'address': 'seoul'},\n",
              " {'_id': ObjectId('5bdd75b79b7e8a4908544eaa'),\n",
              "  'name': 'tom',\n",
              "  'age': 12,\n",
              "  'address': 'seoul'},\n",
              " {'_id': ObjectId('5bdd75b79b7e8a4908544eab'),\n",
              "  'name': 'ellen',\n",
              "  'age': 21,\n",
              "  'address': 'london'}]"
            ]
          },
          "metadata": {
            "tags": []
          },
          "execution_count": 20
        }
      ]
    },
    {
      "cell_type": "code",
      "metadata": {
        "id": "fZAHDu7AueUl",
        "outputId": "f4c87264-ffcd-4c39-f277-62f420827e55"
      },
      "source": [
        "list(test_collection.find({'name': {'$nin': ['john', 'kyle']}}))"
      ],
      "execution_count": null,
      "outputs": [
        {
          "output_type": "execute_result",
          "data": {
            "text/plain": [
              "[{'_id': ObjectId('5bdd75b69b7e8a4908544ea7'),\n",
              "  'name': 'grace',\n",
              "  'age': 43,\n",
              "  'address': 'seoul'},\n",
              " {'_id': ObjectId('5bdd75b79b7e8a4908544eaa'),\n",
              "  'name': 'tom',\n",
              "  'age': 12,\n",
              "  'address': 'seoul'},\n",
              " {'_id': ObjectId('5bdd75b79b7e8a4908544eab'),\n",
              "  'name': 'ellen',\n",
              "  'age': 21,\n",
              "  'address': 'london'}]"
            ]
          },
          "metadata": {
            "tags": []
          },
          "execution_count": 21
        }
      ]
    },
    {
      "cell_type": "code",
      "metadata": {
        "id": "KTMUAgpoueUl",
        "outputId": "ef7fd801-1a5d-4e36-b463-065051b60ad4"
      },
      "source": [
        "# Key값의 존재 여부 조건\n",
        "\n",
        "list(test_collection.find({'age': {'$exists': True}}))"
      ],
      "execution_count": null,
      "outputs": [
        {
          "output_type": "execute_result",
          "data": {
            "text/plain": [
              "[{'_id': ObjectId('5bdd75b69b7e8a4908544ea7'),\n",
              "  'name': 'grace',\n",
              "  'age': 43,\n",
              "  'address': 'seoul'},\n",
              " {'_id': ObjectId('5bdd75b69b7e8a4908544ea8'),\n",
              "  'name': 'kyle',\n",
              "  'age': 62,\n",
              "  'address': 'seoul'},\n",
              " {'_id': ObjectId('5bdd75b69b7e8a4908544ea9'),\n",
              "  'name': 'john',\n",
              "  'age': 10,\n",
              "  'address': 'newyork'},\n",
              " {'_id': ObjectId('5bdd75b79b7e8a4908544eaa'),\n",
              "  'name': 'tom',\n",
              "  'age': 12,\n",
              "  'address': 'seoul'},\n",
              " {'_id': ObjectId('5bdd75b79b7e8a4908544eab'),\n",
              "  'name': 'ellen',\n",
              "  'age': 21,\n",
              "  'address': 'london'}]"
            ]
          },
          "metadata": {
            "tags": []
          },
          "execution_count": 22
        }
      ]
    },
    {
      "cell_type": "markdown",
      "metadata": {
        "id": "Axu7n_WLueUl"
      },
      "source": [
        "#### Update"
      ]
    },
    {
      "cell_type": "code",
      "metadata": {
        "id": "imGLztliueUm",
        "outputId": "9947e9a6-3d06-409d-f012-f4946e9250a7"
      },
      "source": [
        "# update 명령어\n",
        "# 2개의 argument 중 첫번째는 업데이트를 진행할 데이터의 조건\n",
        "# 두번째는 업데이트하게 될 내용을 입력\n",
        "# 단, 모든 데이터를 입력해야 함\n",
        "# test_collection.update({'name': 'grace'}, {'age': 30}) 을 실행하면 {'age': 30}만 존재하는 Collection으로 변경됨\n",
        "# 해당 조건 데이터가 없을 경우 insert하기를 원하면 upsert = True\n",
        "# 동일한 조건의 여러 Collection을 모두 update하기를 원하면 multi = True\n",
        "\n",
        "test_collection.update({'name': 'grace'}, {'name': 'grace', 'age': 5, 'address': 'london'})\n",
        "list(test_collection.find({'name': 'grace'}))"
      ],
      "execution_count": null,
      "outputs": [
        {
          "output_type": "stream",
          "text": [
            "c:\\users\\kyle\\appdata\\local\\programs\\python\\python36\\lib\\site-packages\\ipykernel_launcher.py:9: DeprecationWarning: update is deprecated. Use replace_one, update_one or update_many instead.\n",
            "  if __name__ == '__main__':\n"
          ],
          "name": "stderr"
        },
        {
          "output_type": "execute_result",
          "data": {
            "text/plain": [
              "[{'_id': ObjectId('5bdd75b69b7e8a4908544ea7'),\n",
              "  'name': 'grace',\n",
              "  'age': 5,\n",
              "  'address': 'london'}]"
            ]
          },
          "metadata": {
            "tags": []
          },
          "execution_count": 23
        }
      ]
    },
    {
      "cell_type": "code",
      "metadata": {
        "id": "ikIs2wA7ueUm",
        "outputId": "121379e7-eac8-4037-eda2-8b96f7b00179"
      },
      "source": [
        "# 특정 field만 update하고 싶다면 $set 연산자를 이용\n",
        "\n",
        "test_collection.update({'name': 'kyle'}, {'$set': {'age': 100}})\n",
        "list(test_collection.find({'name': 'kyle'}))"
      ],
      "execution_count": null,
      "outputs": [
        {
          "output_type": "stream",
          "text": [
            "c:\\users\\kyle\\appdata\\local\\programs\\python\\python36\\lib\\site-packages\\ipykernel_launcher.py:3: DeprecationWarning: update is deprecated. Use replace_one, update_one or update_many instead.\n",
            "  This is separate from the ipykernel package so we can avoid doing imports until\n"
          ],
          "name": "stderr"
        },
        {
          "output_type": "execute_result",
          "data": {
            "text/plain": [
              "[{'_id': ObjectId('5bdd75b69b7e8a4908544ea8'),\n",
              "  'name': 'kyle',\n",
              "  'age': 100,\n",
              "  'address': 'seoul'}]"
            ]
          },
          "metadata": {
            "tags": []
          },
          "execution_count": 24
        }
      ]
    },
    {
      "cell_type": "markdown",
      "metadata": {
        "id": "fsBFp1clueUm"
      },
      "source": [
        "#### Sort"
      ]
    },
    {
      "cell_type": "code",
      "metadata": {
        "id": "gYehUzcBueUm",
        "outputId": "6af8b299-4040-422f-a860-ab4f5a1dabf4"
      },
      "source": [
        "list(test_collection.find().sort('age', -1))"
      ],
      "execution_count": null,
      "outputs": [
        {
          "output_type": "execute_result",
          "data": {
            "text/plain": [
              "[{'_id': ObjectId('5bdd75b69b7e8a4908544ea8'),\n",
              "  'name': 'kyle',\n",
              "  'age': 100,\n",
              "  'address': 'seoul'},\n",
              " {'_id': ObjectId('5bdd75b79b7e8a4908544eab'),\n",
              "  'name': 'ellen',\n",
              "  'age': 21,\n",
              "  'address': 'london'},\n",
              " {'_id': ObjectId('5bdd75b79b7e8a4908544eaa'),\n",
              "  'name': 'tom',\n",
              "  'age': 12,\n",
              "  'address': 'seoul'},\n",
              " {'_id': ObjectId('5bdd75b69b7e8a4908544ea9'),\n",
              "  'name': 'john',\n",
              "  'age': 10,\n",
              "  'address': 'newyork'},\n",
              " {'_id': ObjectId('5bdd75b69b7e8a4908544ea7'),\n",
              "  'name': 'grace',\n",
              "  'age': 5,\n",
              "  'address': 'london'}]"
            ]
          },
          "metadata": {
            "tags": []
          },
          "execution_count": 25
        }
      ]
    },
    {
      "cell_type": "markdown",
      "metadata": {
        "id": "1E3t7vtTueUn"
      },
      "source": [
        "#### Distinct"
      ]
    },
    {
      "cell_type": "code",
      "metadata": {
        "id": "OUOMNkSDueUn",
        "outputId": "e5c0fa44-28e0-4b6c-b25e-ed5429fde60d"
      },
      "source": [
        "list(test_collection.find().distinct('address'))"
      ],
      "execution_count": null,
      "outputs": [
        {
          "output_type": "execute_result",
          "data": {
            "text/plain": [
              "['london', 'seoul', 'newyork']"
            ]
          },
          "metadata": {
            "tags": []
          },
          "execution_count": 26
        }
      ]
    },
    {
      "cell_type": "markdown",
      "metadata": {
        "id": "3j1WBAgWueUn"
      },
      "source": [
        "### MongoDB와 Pandas DataFrame"
      ]
    },
    {
      "cell_type": "code",
      "metadata": {
        "id": "P7qAJaSCueUn",
        "outputId": "c10410f6-f43b-49e4-9c0c-0bafb420f108"
      },
      "source": [
        "# cursor = 객체를 가져오는 반복자를 반환해준다 \n",
        "# 이를 통해 Dataframe으로 변환할 수 있다\n",
        "import pandas as pd\n",
        "\n",
        "test_collection_fields = ['name', 'age', 'address']\n",
        "cursor = test_collection.find()\n",
        "result = pd.DataFrame(list(cursor), columns = test_collection_fields)\n",
        "result"
      ],
      "execution_count": null,
      "outputs": [
        {
          "output_type": "execute_result",
          "data": {
            "text/html": [
              "<div>\n",
              "<style scoped>\n",
              "    .dataframe tbody tr th:only-of-type {\n",
              "        vertical-align: middle;\n",
              "    }\n",
              "\n",
              "    .dataframe tbody tr th {\n",
              "        vertical-align: top;\n",
              "    }\n",
              "\n",
              "    .dataframe thead th {\n",
              "        text-align: right;\n",
              "    }\n",
              "</style>\n",
              "<table border=\"1\" class=\"dataframe\">\n",
              "  <thead>\n",
              "    <tr style=\"text-align: right;\">\n",
              "      <th></th>\n",
              "      <th>name</th>\n",
              "      <th>age</th>\n",
              "      <th>address</th>\n",
              "    </tr>\n",
              "  </thead>\n",
              "  <tbody>\n",
              "    <tr>\n",
              "      <th>0</th>\n",
              "      <td>grace</td>\n",
              "      <td>5</td>\n",
              "      <td>london</td>\n",
              "    </tr>\n",
              "    <tr>\n",
              "      <th>1</th>\n",
              "      <td>kyle</td>\n",
              "      <td>100</td>\n",
              "      <td>seoul</td>\n",
              "    </tr>\n",
              "    <tr>\n",
              "      <th>2</th>\n",
              "      <td>john</td>\n",
              "      <td>10</td>\n",
              "      <td>newyork</td>\n",
              "    </tr>\n",
              "    <tr>\n",
              "      <th>3</th>\n",
              "      <td>tom</td>\n",
              "      <td>12</td>\n",
              "      <td>seoul</td>\n",
              "    </tr>\n",
              "    <tr>\n",
              "      <th>4</th>\n",
              "      <td>ellen</td>\n",
              "      <td>21</td>\n",
              "      <td>london</td>\n",
              "    </tr>\n",
              "  </tbody>\n",
              "</table>\n",
              "</div>"
            ],
            "text/plain": [
              "    name  age  address\n",
              "0  grace    5   london\n",
              "1   kyle  100    seoul\n",
              "2   john   10  newyork\n",
              "3    tom   12    seoul\n",
              "4  ellen   21   london"
            ]
          },
          "metadata": {
            "tags": []
          },
          "execution_count": 27
        }
      ]
    },
    {
      "cell_type": "code",
      "metadata": {
        "id": "KVkxeswKueUn",
        "outputId": "338bf458-819f-4e07-949f-424ac53b9684"
      },
      "source": [
        "list(test_collection.find())"
      ],
      "execution_count": null,
      "outputs": [
        {
          "output_type": "execute_result",
          "data": {
            "text/plain": [
              "[{'_id': ObjectId('5bdd50d09b7e8a2a38d11b8b'),\n",
              "  'name': 'grace',\n",
              "  'age': 5,\n",
              "  'address': 'london'},\n",
              " {'_id': ObjectId('5bdd50d19b7e8a2a38d11b8c'),\n",
              "  'name': 'kyle',\n",
              "  'age': 100,\n",
              "  'address': 'london'},\n",
              " {'_id': ObjectId('5bdd50d19b7e8a2a38d11b8d'),\n",
              "  'name': 'john',\n",
              "  'age': 40,\n",
              "  'address': 'newyork'},\n",
              " {'_id': ObjectId('5bdd50d19b7e8a2a38d11b8e'),\n",
              "  'name': 'tom',\n",
              "  'age': 30,\n",
              "  'address': 'seoul'},\n",
              " {'_id': ObjectId('5bdd50d19b7e8a2a38d11b8f'),\n",
              "  'name': 'ellen',\n",
              "  'age': 38,\n",
              "  'address': 'london'}]"
            ]
          },
          "metadata": {
            "tags": []
          },
          "execution_count": 32
        }
      ]
    },
    {
      "cell_type": "code",
      "metadata": {
        "id": "-QzfFoXfueUo",
        "outputId": "1334a0ca-ceab-4afd-ce79-4d0834b6c082"
      },
      "source": [
        "test_collection.remove()"
      ],
      "execution_count": null,
      "outputs": [
        {
          "output_type": "stream",
          "text": [
            "c:\\users\\kyle\\appdata\\local\\programs\\python\\python36\\lib\\site-packages\\ipykernel_launcher.py:1: DeprecationWarning: remove is deprecated. Use delete_one or delete_many instead.\n",
            "  \"\"\"Entry point for launching an IPython kernel.\n"
          ],
          "name": "stderr"
        },
        {
          "output_type": "execute_result",
          "data": {
            "text/plain": [
              "{'n': 10,\n",
              " 'opTime': {'ts': Timestamp(1541240197, 10), 't': 7},\n",
              " 'electionId': ObjectId('7fffffff0000000000000007'),\n",
              " 'ok': 1.0,\n",
              " 'operationTime': Timestamp(1541240197, 10),\n",
              " '$clusterTime': {'clusterTime': Timestamp(1541240197, 10),\n",
              "  'signature': {'hash': b',\\xbe\\xaf\\xaeB\\x9c<+b&#,\\xd3\\xa9\\xea\\xf1{\\xa2:\\x8f',\n",
              "   'keyId': 6605358658400288769}}}"
            ]
          },
          "metadata": {
            "tags": []
          },
          "execution_count": 8
        }
      ]
    },
    {
      "cell_type": "code",
      "metadata": {
        "id": "e76mtCKvueUo"
      },
      "source": [
        ""
      ],
      "execution_count": null,
      "outputs": []
    }
  ]
}